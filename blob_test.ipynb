{
    "cells": [
        {
            "cell_type": "code",
            "execution_count": 1,
            "source": [
                "import io, os, uuid, yaml\r\n",
                "import numpy as np\r\n",
                "import pandas as pd\r\n",
                "from azure.storage.blob import BlobServiceClient, BlobClient, ContainerClient"
            ],
            "outputs": [],
            "metadata": {}
        },
        {
            "cell_type": "code",
            "execution_count": 2,
            "source": [
                "with open(\"./credentials.yaml\",\"r\") as c:\r\n",
                "    credentials = yaml.safe_load(c)['blob_storage']"
            ],
            "outputs": [],
            "metadata": {}
        },
        {
            "cell_type": "code",
            "execution_count": 3,
            "source": [
                "blob_service_client = BlobServiceClient.from_connection_string(credentials['conn_string'])"
            ],
            "outputs": [],
            "metadata": {}
        },
        {
            "cell_type": "code",
            "execution_count": 4,
            "source": [
                "container_name = \"ingredion-data\"\r\n",
                "container_client = blob_service_client.get_container_client(container_name)"
            ],
            "outputs": [],
            "metadata": {}
        },
        {
            "cell_type": "code",
            "execution_count": 5,
            "source": [
                "blob_list = container_client.list_blobs()"
            ],
            "outputs": [],
            "metadata": {}
        },
        {
            "cell_type": "code",
            "execution_count": 6,
            "source": [
                "keys = {'name', \"size\"}\r\n",
                "az_storage_blobs = [{k:v for k,v in b.items() if k in keys} for b in blob_list]"
            ],
            "outputs": [],
            "metadata": {}
        },
        {
            "cell_type": "code",
            "execution_count": 7,
            "source": [
                "az_storage_blobs"
            ],
            "outputs": [
                {
                    "output_type": "execute_result",
                    "data": {
                        "text/plain": [
                            "[{'name': 'Brazil_file', 'size': 48885145},\n",
                            " {'name': 'US_file', 'size': 111936526},\n",
                            " {'name': 'test_file', 'size': 111936526}]"
                        ]
                    },
                    "metadata": {},
                    "execution_count": 7
                }
            ],
            "metadata": {}
        },
        {
            "cell_type": "code",
            "execution_count": 8,
            "source": [
                "az_storage_blobs[0]['name']"
            ],
            "outputs": [
                {
                    "output_type": "execute_result",
                    "data": {
                        "text/plain": [
                            "'Brazil_file'"
                        ]
                    },
                    "metadata": {},
                    "execution_count": 8
                }
            ],
            "metadata": {}
        },
        {
            "cell_type": "code",
            "execution_count": 17,
            "source": [
                "stream = container_client.download_blob(az_storage_blobs[0]['name'])\r\n",
                "result = stream.content_as_text()"
            ],
            "outputs": [],
            "metadata": {}
        },
        {
            "cell_type": "code",
            "execution_count": 19,
            "source": [
                "data = io.StringIO(result)\r\n",
                "df = pd.read_csv(data)"
            ],
            "outputs": [],
            "metadata": {}
        },
        {
            "cell_type": "markdown",
            "source": [],
            "metadata": {}
        },
        {
            "cell_type": "code",
            "execution_count": 20,
            "source": [
                "df.shape"
            ],
            "outputs": [
                {
                    "output_type": "execute_result",
                    "data": {
                        "text/plain": [
                            "(136138, 48)"
                        ]
                    },
                    "metadata": {},
                    "execution_count": 20
                }
            ],
            "metadata": {}
        },
        {
            "cell_type": "code",
            "execution_count": 21,
            "source": [
                "df.head()"
            ],
            "outputs": [
                {
                    "output_type": "execute_result",
                    "data": {
                        "text/plain": [
                            "   fiscal_year_period          company_name  company_code Ship_to_party_code  \\\n",
                            "0              1.2016  Ingredion Brasil - I        4101.0         0010000010   \n",
                            "1              1.2016  Ingredion Brasil - I        4101.0         0010002289   \n",
                            "2              1.2016  Ingredion Brasil - I        4101.0         0010002289   \n",
                            "3              1.2016  Ingredion Brasil - I        4101.0         0010002304   \n",
                            "4              1.2016  Ingredion Brasil - I        4101.0         0010002306   \n",
                            "\n",
                            "                         ship_to_party    material  \\\n",
                            "0                        Ad' oro S. A.  13890001AO   \n",
                            "1    Duas Rodas Nordeste Ind. de Alim.  12370100BN   \n",
                            "2    Duas Rodas Nordeste Ind. de Alim.  26010001OB   \n",
                            "3  Abbott Laboratorios do Brasil Ltda.  13742000NG   \n",
                            "4  Abc Comercio e Representacoes Ltda.  03401000CE   \n",
                            "\n",
                            "                        commercial_name  sales_qty_total_mt  \\\n",
                            "0                      CORN GLUTEN MEAL              109.81   \n",
                            "1                       PURITY GUM 1773                1.00   \n",
                            "2  LIQUID SORBITOL CRYSTALIZABLE NF/FCC                2.24   \n",
                            "3                      LIGHT STEEPWATER                0.48   \n",
                            "4       NATIVE FOOD REGULAR CORN STARCH               12.50   \n",
                            "\n",
                            "   3p_sales_qty_total_mt  gross_revenue_usd  ...  intercompany_financing_cost  \\\n",
                            "0                 109.81           45367.28  ...                         0.00   \n",
                            "1                   1.00            5299.17  ...                       -65.84   \n",
                            "2                   2.24            2124.10  ...                       -27.24   \n",
                            "3                   0.48             130.77  ...                        -1.56   \n",
                            "4                  12.50            3940.47  ...                       -39.99   \n",
                            "\n",
                            "   financing_costs  fees_and_royalties          pbt  taxes_on_income  \\\n",
                            "0             0.00                0.00     0.000000             0.00   \n",
                            "1           -49.22               37.98  2672.309899           258.81   \n",
                            "2           -20.36               15.71  1050.545650           107.07   \n",
                            "3            -1.17                0.90    63.114282             6.14   \n",
                            "4           -29.90               23.07   447.149689           157.21   \n",
                            "\n",
                            "    net_income  minority_income  adj_minority_income  total_net_income  \\\n",
                            "0     0.000000                0                    0          0.000000   \n",
                            "1  2413.504772                0                    0       2413.504772   \n",
                            "2   943.479691                0                    0        943.479691   \n",
                            "3    56.971376                0                    0         56.971376   \n",
                            "4   289.942198                0                    0        289.942198   \n",
                            "\n",
                            "   ing10000_ingr_net_income  \n",
                            "0                  0.000000  \n",
                            "1               2413.504772  \n",
                            "2                943.479691  \n",
                            "3                 56.971376  \n",
                            "4                289.942198  \n",
                            "\n",
                            "[5 rows x 48 columns]"
                        ],
                        "text/html": [
                            "<div>\n",
                            "<style scoped>\n",
                            "    .dataframe tbody tr th:only-of-type {\n",
                            "        vertical-align: middle;\n",
                            "    }\n",
                            "\n",
                            "    .dataframe tbody tr th {\n",
                            "        vertical-align: top;\n",
                            "    }\n",
                            "\n",
                            "    .dataframe thead th {\n",
                            "        text-align: right;\n",
                            "    }\n",
                            "</style>\n",
                            "<table border=\"1\" class=\"dataframe\">\n",
                            "  <thead>\n",
                            "    <tr style=\"text-align: right;\">\n",
                            "      <th></th>\n",
                            "      <th>fiscal_year_period</th>\n",
                            "      <th>company_name</th>\n",
                            "      <th>company_code</th>\n",
                            "      <th>Ship_to_party_code</th>\n",
                            "      <th>ship_to_party</th>\n",
                            "      <th>material</th>\n",
                            "      <th>commercial_name</th>\n",
                            "      <th>sales_qty_total_mt</th>\n",
                            "      <th>3p_sales_qty_total_mt</th>\n",
                            "      <th>gross_revenue_usd</th>\n",
                            "      <th>...</th>\n",
                            "      <th>intercompany_financing_cost</th>\n",
                            "      <th>financing_costs</th>\n",
                            "      <th>fees_and_royalties</th>\n",
                            "      <th>pbt</th>\n",
                            "      <th>taxes_on_income</th>\n",
                            "      <th>net_income</th>\n",
                            "      <th>minority_income</th>\n",
                            "      <th>adj_minority_income</th>\n",
                            "      <th>total_net_income</th>\n",
                            "      <th>ing10000_ingr_net_income</th>\n",
                            "    </tr>\n",
                            "  </thead>\n",
                            "  <tbody>\n",
                            "    <tr>\n",
                            "      <th>0</th>\n",
                            "      <td>1.2016</td>\n",
                            "      <td>Ingredion Brasil - I</td>\n",
                            "      <td>4101.0</td>\n",
                            "      <td>0010000010</td>\n",
                            "      <td>Ad' oro S. A.</td>\n",
                            "      <td>13890001AO</td>\n",
                            "      <td>CORN GLUTEN MEAL</td>\n",
                            "      <td>109.81</td>\n",
                            "      <td>109.81</td>\n",
                            "      <td>45367.28</td>\n",
                            "      <td>...</td>\n",
                            "      <td>0.00</td>\n",
                            "      <td>0.00</td>\n",
                            "      <td>0.00</td>\n",
                            "      <td>0.000000</td>\n",
                            "      <td>0.00</td>\n",
                            "      <td>0.000000</td>\n",
                            "      <td>0</td>\n",
                            "      <td>0</td>\n",
                            "      <td>0.000000</td>\n",
                            "      <td>0.000000</td>\n",
                            "    </tr>\n",
                            "    <tr>\n",
                            "      <th>1</th>\n",
                            "      <td>1.2016</td>\n",
                            "      <td>Ingredion Brasil - I</td>\n",
                            "      <td>4101.0</td>\n",
                            "      <td>0010002289</td>\n",
                            "      <td>Duas Rodas Nordeste Ind. de Alim.</td>\n",
                            "      <td>12370100BN</td>\n",
                            "      <td>PURITY GUM 1773</td>\n",
                            "      <td>1.00</td>\n",
                            "      <td>1.00</td>\n",
                            "      <td>5299.17</td>\n",
                            "      <td>...</td>\n",
                            "      <td>-65.84</td>\n",
                            "      <td>-49.22</td>\n",
                            "      <td>37.98</td>\n",
                            "      <td>2672.309899</td>\n",
                            "      <td>258.81</td>\n",
                            "      <td>2413.504772</td>\n",
                            "      <td>0</td>\n",
                            "      <td>0</td>\n",
                            "      <td>2413.504772</td>\n",
                            "      <td>2413.504772</td>\n",
                            "    </tr>\n",
                            "    <tr>\n",
                            "      <th>2</th>\n",
                            "      <td>1.2016</td>\n",
                            "      <td>Ingredion Brasil - I</td>\n",
                            "      <td>4101.0</td>\n",
                            "      <td>0010002289</td>\n",
                            "      <td>Duas Rodas Nordeste Ind. de Alim.</td>\n",
                            "      <td>26010001OB</td>\n",
                            "      <td>LIQUID SORBITOL CRYSTALIZABLE NF/FCC</td>\n",
                            "      <td>2.24</td>\n",
                            "      <td>2.24</td>\n",
                            "      <td>2124.10</td>\n",
                            "      <td>...</td>\n",
                            "      <td>-27.24</td>\n",
                            "      <td>-20.36</td>\n",
                            "      <td>15.71</td>\n",
                            "      <td>1050.545650</td>\n",
                            "      <td>107.07</td>\n",
                            "      <td>943.479691</td>\n",
                            "      <td>0</td>\n",
                            "      <td>0</td>\n",
                            "      <td>943.479691</td>\n",
                            "      <td>943.479691</td>\n",
                            "    </tr>\n",
                            "    <tr>\n",
                            "      <th>3</th>\n",
                            "      <td>1.2016</td>\n",
                            "      <td>Ingredion Brasil - I</td>\n",
                            "      <td>4101.0</td>\n",
                            "      <td>0010002304</td>\n",
                            "      <td>Abbott Laboratorios do Brasil Ltda.</td>\n",
                            "      <td>13742000NG</td>\n",
                            "      <td>LIGHT STEEPWATER</td>\n",
                            "      <td>0.48</td>\n",
                            "      <td>0.48</td>\n",
                            "      <td>130.77</td>\n",
                            "      <td>...</td>\n",
                            "      <td>-1.56</td>\n",
                            "      <td>-1.17</td>\n",
                            "      <td>0.90</td>\n",
                            "      <td>63.114282</td>\n",
                            "      <td>6.14</td>\n",
                            "      <td>56.971376</td>\n",
                            "      <td>0</td>\n",
                            "      <td>0</td>\n",
                            "      <td>56.971376</td>\n",
                            "      <td>56.971376</td>\n",
                            "    </tr>\n",
                            "    <tr>\n",
                            "      <th>4</th>\n",
                            "      <td>1.2016</td>\n",
                            "      <td>Ingredion Brasil - I</td>\n",
                            "      <td>4101.0</td>\n",
                            "      <td>0010002306</td>\n",
                            "      <td>Abc Comercio e Representacoes Ltda.</td>\n",
                            "      <td>03401000CE</td>\n",
                            "      <td>NATIVE FOOD REGULAR CORN STARCH</td>\n",
                            "      <td>12.50</td>\n",
                            "      <td>12.50</td>\n",
                            "      <td>3940.47</td>\n",
                            "      <td>...</td>\n",
                            "      <td>-39.99</td>\n",
                            "      <td>-29.90</td>\n",
                            "      <td>23.07</td>\n",
                            "      <td>447.149689</td>\n",
                            "      <td>157.21</td>\n",
                            "      <td>289.942198</td>\n",
                            "      <td>0</td>\n",
                            "      <td>0</td>\n",
                            "      <td>289.942198</td>\n",
                            "      <td>289.942198</td>\n",
                            "    </tr>\n",
                            "  </tbody>\n",
                            "</table>\n",
                            "<p>5 rows × 48 columns</p>\n",
                            "</div>"
                        ]
                    },
                    "metadata": {},
                    "execution_count": 21
                }
            ],
            "metadata": {}
        },
        {
            "cell_type": "code",
            "execution_count": 22,
            "source": [
                "df.info()"
            ],
            "outputs": [
                {
                    "output_type": "stream",
                    "name": "stdout",
                    "text": [
                        "<class 'pandas.core.frame.DataFrame'>\n",
                        "RangeIndex: 136138 entries, 0 to 136137\n",
                        "Data columns (total 48 columns):\n",
                        " #   Column                           Non-Null Count   Dtype  \n",
                        "---  ------                           --------------   -----  \n",
                        " 0   fiscal_year_period               136138 non-null  float64\n",
                        " 1   company_name                     136138 non-null  object \n",
                        " 2   company_code                     136138 non-null  float64\n",
                        " 3   Ship_to_party_code               136138 non-null  object \n",
                        " 4   ship_to_party                    136138 non-null  object \n",
                        " 5   material                         134121 non-null  object \n",
                        " 6   commercial_name                  136138 non-null  object \n",
                        " 7   sales_qty_total_mt               136138 non-null  float64\n",
                        " 8   3p_sales_qty_total_mt            127136 non-null  float64\n",
                        " 9   gross_revenue_usd                136138 non-null  float64\n",
                        " 10  discounts_usd                    136138 non-null  int64  \n",
                        " 11  new_net_revenue                  136138 non-null  float64\n",
                        " 12  n3p_net_revenue                  127136 non-null  float64\n",
                        " 13  net_corn                         136138 non-null  float64\n",
                        " 14  raw_material_other               136138 non-null  float64\n",
                        " 15  utilities                        136138 non-null  float64\n",
                        " 16  waste                            136138 non-null  int64  \n",
                        " 17  repair                           136138 non-null  float64\n",
                        " 18  labor                            136138 non-null  float64\n",
                        " 19  ohmfg                            136138 non-null  float64\n",
                        " 20  supplies_and_packaging           136138 non-null  float64\n",
                        " 21  supplies_indirect                136138 non-null  float64\n",
                        " 22  depreciation                     136138 non-null  float64\n",
                        " 23  3p_freight_usd                   127136 non-null  float64\n",
                        " 24  logistics                        136138 non-null  float64\n",
                        " 25  cos_other                        136138 non-null  float64\n",
                        " 26  new_cogs                         136138 non-null  float64\n",
                        " 27  freight_usd                      136138 non-null  float64\n",
                        " 28  intercompany_cost_elimination    136138 non-null  float64\n",
                        " 29  gross_profit                     136138 non-null  float64\n",
                        " 30  sga_toal                         136138 non-null  float64\n",
                        " 31  other_income_expense             136138 non-null  float64\n",
                        " 32  operating_income                 136138 non-null  float64\n",
                        " 33  other_non_operating_income_loss  136138 non-null  float64\n",
                        " 34  special_items                    136138 non-null  float64\n",
                        " 35  interco_dividends                136138 non-null  int64  \n",
                        " 36  charge_back                      136138 non-null  float64\n",
                        " 37  exchange_gain_loss               136138 non-null  float64\n",
                        " 38  intercompany_financing_cost      136138 non-null  float64\n",
                        " 39  financing_costs                  136138 non-null  float64\n",
                        " 40  fees_and_royalties               136138 non-null  float64\n",
                        " 41  pbt                              136138 non-null  float64\n",
                        " 42  taxes_on_income                  136138 non-null  float64\n",
                        " 43  net_income                       136138 non-null  float64\n",
                        " 44  minority_income                  136138 non-null  int64  \n",
                        " 45  adj_minority_income              136138 non-null  int64  \n",
                        " 46  total_net_income                 136138 non-null  float64\n",
                        " 47  ing10000_ingr_net_income         136138 non-null  float64\n",
                        "dtypes: float64(38), int64(5), object(5)\n",
                        "memory usage: 49.9+ MB\n"
                    ]
                }
            ],
            "metadata": {}
        },
        {
            "cell_type": "code",
            "execution_count": 25,
            "source": [
                "df.fiscal_year_period.unique()"
            ],
            "outputs": [
                {
                    "output_type": "execute_result",
                    "data": {
                        "text/plain": [
                            "array([ 1.2016, 10.2016, 11.2016, 12.2016,  2.2016,  3.2016,  4.2016,\n",
                            "        5.2016,  6.2016,  7.2016,  8.2016,  9.2016,  1.2017, 10.2017,\n",
                            "       11.2017, 12.2017,  2.2017,  3.2017,  4.2017,  5.2017,  6.2017,\n",
                            "        7.2017,  8.2017,  9.2017,  1.2018, 10.2018, 11.2018, 12.2018,\n",
                            "        2.2018,  3.2018,  4.2018,  5.2018,  6.2018,  7.2018,  8.2018,\n",
                            "        9.2018,  1.2019, 10.2019, 11.2019, 12.2019,  2.2019,  3.2019,\n",
                            "        4.2019,  5.2019,  6.2019,  7.2019,  8.2019,  9.2019,  1.202 ,\n",
                            "       10.202 , 11.202 , 12.202 ,  2.202 ,  3.202 ,  4.202 ,  5.202 ,\n",
                            "        6.202 ,  7.202 ,  8.202 ,  9.202 ])"
                        ]
                    },
                    "metadata": {},
                    "execution_count": 25
                }
            ],
            "metadata": {}
        },
        {
            "cell_type": "code",
            "execution_count": 26,
            "source": [
                "df.nunique()"
            ],
            "outputs": [
                {
                    "output_type": "execute_result",
                    "data": {
                        "text/plain": [
                            "fiscal_year_period                     60\n",
                            "company_name                            1\n",
                            "company_code                            1\n",
                            "Ship_to_party_code                   3155\n",
                            "ship_to_party                        2786\n",
                            "material                              869\n",
                            "commercial_name                       291\n",
                            "sales_qty_total_mt                  16829\n",
                            "3p_sales_qty_total_mt               16675\n",
                            "gross_revenue_usd                  102234\n",
                            "discounts_usd                           1\n",
                            "new_net_revenue                    102253\n",
                            "n3p_net_revenue                     98349\n",
                            "net_corn                            70028\n",
                            "raw_material_other                  19919\n",
                            "utilities                           55393\n",
                            "waste                                   1\n",
                            "repair                              65281\n",
                            "labor                               49807\n",
                            "ohmfg                               40212\n",
                            "supplies_and_packaging              67617\n",
                            "supplies_indirect                   36121\n",
                            "depreciation                        47716\n",
                            "3p_freight_usd                      51576\n",
                            "logistics                           29676\n",
                            "cos_other                           39024\n",
                            "new_cogs                           124227\n",
                            "freight_usd                         55226\n",
                            "intercompany_cost_elimination        5925\n",
                            "gross_profit                       121994\n",
                            "sga_toal                            73235\n",
                            "other_income_expense                42697\n",
                            "operating_income                   122301\n",
                            "other_non_operating_income_loss        37\n",
                            "special_items                        8214\n",
                            "interco_dividends                       1\n",
                            "charge_back                          7964\n",
                            "exchange_gain_loss                  30126\n",
                            "intercompany_financing_cost          1562\n",
                            "financing_costs                     28516\n",
                            "fees_and_royalties                  27140\n",
                            "pbt                                124460\n",
                            "taxes_on_income                     52366\n",
                            "net_income                         124477\n",
                            "minority_income                         1\n",
                            "adj_minority_income                     1\n",
                            "total_net_income                   124477\n",
                            "ing10000_ingr_net_income           124477\n",
                            "dtype: int64"
                        ]
                    },
                    "metadata": {},
                    "execution_count": 26
                }
            ],
            "metadata": {}
        },
        {
            "cell_type": "code",
            "execution_count": null,
            "source": [],
            "outputs": [],
            "metadata": {}
        }
    ],
    "metadata": {
        "orig_nbformat": 4,
        "language_info": {
            "name": "python",
            "version": "3.9.6",
            "mimetype": "text/x-python",
            "codemirror_mode": {
                "name": "ipython",
                "version": 3
            },
            "pygments_lexer": "ipython3",
            "nbconvert_exporter": "python",
            "file_extension": ".py"
        },
        "kernelspec": {
            "name": "python3",
            "display_name": "Python 3.9.6 64-bit ('azure_env': conda)"
        },
        "interpreter": {
            "hash": "15fd77f39075a101c0ddb7fa73065956cd918a6c64abad10f23882cfd32495f7"
        }
    },
    "nbformat": 4,
    "nbformat_minor": 2
}
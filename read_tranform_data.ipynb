{
 "cells": [
  {
   "cell_type": "code",
   "execution_count": 2,
   "source": [
    "import io, os, uuid, yaml\r\n",
    "import numpy as np\r\n",
    "import pandas as pd\r\n",
    "from azure.storage.blob import BlobServiceClient, BlobClient, ContainerClient\r\n",
    "from src.pipeline import utils, azure_tools"
   ],
   "outputs": [],
   "metadata": {}
  },
  {
   "cell_type": "code",
   "execution_count": 3,
   "source": [
    "credentials = utils.load_credentials(\"blob_storage\")"
   ],
   "outputs": [],
   "metadata": {}
  },
  {
   "cell_type": "code",
   "execution_count": 4,
   "source": [
    "container_name = \"intermidiate-ingredion\"\r\n",
    "#container_client = ContainerClient.from_connection_string(conn_str=credentials['conn_string'], container_name=container_name)\r\n",
    "#container_client.create_container()"
   ],
   "outputs": [],
   "metadata": {}
  },
  {
   "cell_type": "code",
   "execution_count": 9,
   "source": [
    "container_client = azure_tools.get_container_client(container_name,credentials['conn_string'])\r\n",
    "blob_list = azure_tools.get_blob_list(container_client)\r\n",
    "blob_list"
   ],
   "outputs": [
    {
     "output_type": "execute_result",
     "data": {
      "text/plain": [
       "[]"
      ]
     },
     "metadata": {},
     "execution_count": 9
    }
   ],
   "metadata": {}
  },
  {
   "cell_type": "code",
   "execution_count": 8,
   "source": [
    "container_client.delete_blob('US/1-2018.parquet')"
   ],
   "outputs": [],
   "metadata": {}
  },
  {
   "cell_type": "code",
   "execution_count": null,
   "source": [],
   "outputs": [],
   "metadata": {}
  },
  {
   "cell_type": "code",
   "execution_count": 19,
   "source": [
    "stream = container_client.download_blob(\"my_test\")"
   ],
   "outputs": [],
   "metadata": {}
  },
  {
   "cell_type": "code",
   "execution_count": 20,
   "source": [
    "# Save in dataframe\r\n",
    "file = io.BytesIO()\r\n",
    "stream.readinto(file)"
   ],
   "outputs": [
    {
     "output_type": "execute_result",
     "data": {
      "text/plain": [
       "4581756"
      ]
     },
     "metadata": {},
     "execution_count": 20
    }
   ],
   "metadata": {}
  },
  {
   "cell_type": "code",
   "execution_count": 21,
   "source": [
    "df = pd.read_parquet(file)"
   ],
   "outputs": [],
   "metadata": {}
  },
  {
   "cell_type": "code",
   "execution_count": 22,
   "source": [
    "df.info()"
   ],
   "outputs": [
    {
     "output_type": "stream",
     "name": "stdout",
     "text": [
      "<class 'pandas.core.frame.DataFrame'>\n",
      "Int64Index: 31078 entries, 0 to 6195\n",
      "Data columns (total 48 columns):\n",
      " #   Column                             Non-Null Count  Dtype  \n",
      "---  ------                             --------------  -----  \n",
      " 0   Fiscal year/period                 31078 non-null  float64\n",
      " 1   Company Code                       31078 non-null  object \n",
      " 2   Unnamed: 8                         31078 non-null  float64\n",
      " 3   Ship to party                      31078 non-null  object \n",
      " 4   Unnamed: 10                        31078 non-null  object \n",
      " 5   Material                           30670 non-null  object \n",
      " 6   Commercial Name                    31078 non-null  object \n",
      " 7   Sales Qty Total MT                 31060 non-null  float64\n",
      " 8   3P Sales Qty Total MT              26889 non-null  float64\n",
      " 9   Gross Revenue USD                  31078 non-null  float64\n",
      " 10  Discounts USD                      31078 non-null  float64\n",
      " 11  New Net Revenue                    31078 non-null  float64\n",
      " 12  N3P Net Revenue                    26907 non-null  float64\n",
      " 13  Net Corn                           31078 non-null  float64\n",
      " 14  Raw Material Other                 31078 non-null  float64\n",
      " 15  Utilities                          31078 non-null  float64\n",
      " 16  Waste                              31078 non-null  float64\n",
      " 17  Repair                             31078 non-null  float64\n",
      " 18  Labor                              31078 non-null  float64\n",
      " 19  OHMfg                              31078 non-null  float64\n",
      " 20  Supplies & Packaging               31078 non-null  float64\n",
      " 21  Supplies - Indirect                31078 non-null  float64\n",
      " 22  Depreciation                       31078 non-null  float64\n",
      " 23  3P Freight USD                     26907 non-null  float64\n",
      " 24  Logistics                          31078 non-null  float64\n",
      " 25  COS Other                          31078 non-null  float64\n",
      " 26  New COGS                           31078 non-null  float64\n",
      " 27  Freight USD                        31078 non-null  float64\n",
      " 28  Intercompany Cost Elimination      31078 non-null  float64\n",
      " 29  Gross Profit                       31078 non-null  float64\n",
      " 30  SGA Total                          31078 non-null  float64\n",
      " 31  Other (Income)/Expense             31078 non-null  float64\n",
      " 32  Operating Income                   31078 non-null  float64\n",
      " 33  Other Non-Operating (Income)/Loss  17 non-null     float64\n",
      " 34  Special Items                      17 non-null     float64\n",
      " 35  Interco Dividends                  17 non-null     float64\n",
      " 36  Charge Back                        17 non-null     float64\n",
      " 37  Exchange Gain / Loss               17 non-null     float64\n",
      " 38  Intercompany Financing Cost        17 non-null     float64\n",
      " 39  Financing Costs                    17 non-null     float64\n",
      " 40  Fees and Royalties                 17 non-null     float64\n",
      " 41  PBT                                31078 non-null  float64\n",
      " 42  Taxes on Income                    17 non-null     float64\n",
      " 43  Net Income                         31078 non-null  float64\n",
      " 44  Minority Income                    17 non-null     float64\n",
      " 45  Adj Minority Income                17 non-null     float64\n",
      " 46  Total Net Income                   31078 non-null  float64\n",
      " 47  ING10000 INGR Net Income           31078 non-null  float64\n",
      "dtypes: float64(43), object(5)\n",
      "memory usage: 11.6+ MB\n"
     ]
    }
   ],
   "metadata": {}
  },
  {
   "cell_type": "code",
   "execution_count": null,
   "source": [],
   "outputs": [],
   "metadata": {}
  },
  {
   "cell_type": "code",
   "execution_count": null,
   "source": [],
   "outputs": [],
   "metadata": {}
  }
 ],
 "metadata": {
  "orig_nbformat": 4,
  "language_info": {
   "name": "python",
   "version": "3.9.6",
   "mimetype": "text/x-python",
   "codemirror_mode": {
    "name": "ipython",
    "version": 3
   },
   "pygments_lexer": "ipython3",
   "nbconvert_exporter": "python",
   "file_extension": ".py"
  },
  "kernelspec": {
   "name": "python3",
   "display_name": "Python 3.9.6 64-bit ('azure_env': conda)"
  },
  "interpreter": {
   "hash": "15fd77f39075a101c0ddb7fa73065956cd918a6c64abad10f23882cfd32495f7"
  }
 },
 "nbformat": 4,
 "nbformat_minor": 2
}
{
 "cells": [
  {
   "cell_type": "code",
   "execution_count": 2,
   "metadata": {
    "collapsed": true
   },
   "outputs": [],
   "source": [
    "import urllib, yaml\n",
    "import numpy as np\n",
    "import pandas as pd\n",
    "import sqlalchemy"
   ]
  },
  {
   "cell_type": "code",
   "execution_count": 2,
   "outputs": [],
   "source": [
    "df_gbm = pd.read_parquet(\"C:/Users/bruno.gonzalez/Downloads/predmex/220126forecast_MEX_gbm.parquet\")"
   ],
   "metadata": {
    "collapsed": false,
    "pycharm": {
     "name": "#%%\n"
    }
   }
  },
  {
   "cell_type": "code",
   "execution_count": 3,
   "outputs": [],
   "source": [
    "df_las = pd.read_parquet(\"C:/Users/bruno.gonzalez/Downloads/predmex/220126forecast_MEX_lasso.parquet\")"
   ],
   "metadata": {
    "collapsed": false,
    "pycharm": {
     "name": "#%%\n"
    }
   }
  },
  {
   "cell_type": "code",
   "execution_count": 4,
   "outputs": [],
   "source": [
    "df_xgb = pd.read_parquet(\"C:/Users/bruno.gonzalez/Downloads/predmex/220126forecast_MEX_xgboost.parquet\")"
   ],
   "metadata": {
    "collapsed": false,
    "pycharm": {
     "name": "#%%\n"
    }
   }
  },
  {
   "cell_type": "code",
   "execution_count": 5,
   "outputs": [],
   "source": [
    "df = pd.concat([df_gbm, df_las, df_gbm])"
   ],
   "metadata": {
    "collapsed": false,
    "pycharm": {
     "name": "#%%\n"
    }
   }
  },
  {
   "cell_type": "code",
   "execution_count": 6,
   "outputs": [],
   "source": [
    "df.insert(loc=0,column=\"Country\", value='Mexico')"
   ],
   "metadata": {
    "collapsed": false,
    "pycharm": {
     "name": "#%%\n"
    }
   }
  },
  {
   "cell_type": "code",
   "execution_count": 7,
   "outputs": [
    {
     "data": {
      "text/plain": "  Country        date      ship_to_party      material model_type  \\\n0  Mexico  2019-09-01    AJEMEX SA DE CV    38420903CE        gbm   \n1  Mexico  2018-11-01    AJEMEX SA DE CV  Not assigned        gbm   \n2  Mexico  2019-01-01    AJEMEX SA DE CV  Not assigned        gbm   \n3  Mexico  2019-03-01    AJEMEX SA DE CV  Not assigned        gbm   \n4  Mexico  2019-05-01    AJEMEX SA DE CV  Not assigned        gbm   \n\n      feature_forecasted  window_prediction  forecast  \n0  3p_sales_qty_total_mt                  1  7.144119  \n1  3p_sales_qty_total_mt                  1  7.144119  \n2  3p_sales_qty_total_mt                  1  7.144119  \n3  3p_sales_qty_total_mt                  1  7.144119  \n4  3p_sales_qty_total_mt                  1  7.144119  ",
      "text/html": "<div>\n<style scoped>\n    .dataframe tbody tr th:only-of-type {\n        vertical-align: middle;\n    }\n\n    .dataframe tbody tr th {\n        vertical-align: top;\n    }\n\n    .dataframe thead th {\n        text-align: right;\n    }\n</style>\n<table border=\"1\" class=\"dataframe\">\n  <thead>\n    <tr style=\"text-align: right;\">\n      <th></th>\n      <th>Country</th>\n      <th>date</th>\n      <th>ship_to_party</th>\n      <th>material</th>\n      <th>model_type</th>\n      <th>feature_forecasted</th>\n      <th>window_prediction</th>\n      <th>forecast</th>\n    </tr>\n  </thead>\n  <tbody>\n    <tr>\n      <th>0</th>\n      <td>Mexico</td>\n      <td>2019-09-01</td>\n      <td>AJEMEX SA DE CV</td>\n      <td>38420903CE</td>\n      <td>gbm</td>\n      <td>3p_sales_qty_total_mt</td>\n      <td>1</td>\n      <td>7.144119</td>\n    </tr>\n    <tr>\n      <th>1</th>\n      <td>Mexico</td>\n      <td>2018-11-01</td>\n      <td>AJEMEX SA DE CV</td>\n      <td>Not assigned</td>\n      <td>gbm</td>\n      <td>3p_sales_qty_total_mt</td>\n      <td>1</td>\n      <td>7.144119</td>\n    </tr>\n    <tr>\n      <th>2</th>\n      <td>Mexico</td>\n      <td>2019-01-01</td>\n      <td>AJEMEX SA DE CV</td>\n      <td>Not assigned</td>\n      <td>gbm</td>\n      <td>3p_sales_qty_total_mt</td>\n      <td>1</td>\n      <td>7.144119</td>\n    </tr>\n    <tr>\n      <th>3</th>\n      <td>Mexico</td>\n      <td>2019-03-01</td>\n      <td>AJEMEX SA DE CV</td>\n      <td>Not assigned</td>\n      <td>gbm</td>\n      <td>3p_sales_qty_total_mt</td>\n      <td>1</td>\n      <td>7.144119</td>\n    </tr>\n    <tr>\n      <th>4</th>\n      <td>Mexico</td>\n      <td>2019-05-01</td>\n      <td>AJEMEX SA DE CV</td>\n      <td>Not assigned</td>\n      <td>gbm</td>\n      <td>3p_sales_qty_total_mt</td>\n      <td>1</td>\n      <td>7.144119</td>\n    </tr>\n  </tbody>\n</table>\n</div>"
     },
     "execution_count": 7,
     "metadata": {},
     "output_type": "execute_result"
    }
   ],
   "source": [
    "df.head()"
   ],
   "metadata": {
    "collapsed": false,
    "pycharm": {
     "name": "#%%\n"
    }
   }
  },
  {
   "cell_type": "code",
   "execution_count": 8,
   "outputs": [
    {
     "data": {
      "text/plain": "Country                  object\ndate                  period[D]\nship_to_party            object\nmaterial                 object\nmodel_type               object\nfeature_forecasted       object\nwindow_prediction         int64\nforecast                float64\ndtype: object"
     },
     "execution_count": 8,
     "metadata": {},
     "output_type": "execute_result"
    }
   ],
   "source": [
    "df.dtypes"
   ],
   "metadata": {
    "collapsed": false,
    "pycharm": {
     "name": "#%%\n"
    }
   }
  },
  {
   "cell_type": "code",
   "execution_count": 9,
   "outputs": [],
   "source": [
    "df = df.rename(columns={\n",
    "    'date': 'File Date',\n",
    "    'window_prediction': 'Forecast Window'})"
   ],
   "metadata": {
    "collapsed": false,
    "pycharm": {
     "name": "#%%\n"
    }
   }
  },
  {
   "cell_type": "code",
   "execution_count": 10,
   "outputs": [],
   "source": [
    "df_piv = pd.pivot_table(df,\n",
    "               values='forecast',\n",
    "               columns='feature_forecasted',\n",
    "               aggfunc=np.sum,\n",
    "               index=['Country','File Date', 'ship_to_party','material', 'model_type', 'Forecast Window']).reset_index()"
   ],
   "metadata": {
    "collapsed": false,
    "pycharm": {
     "name": "#%%\n"
    }
   }
  },
  {
   "cell_type": "code",
   "execution_count": 11,
   "outputs": [
    {
     "data": {
      "text/plain": "feature_forecasted Country   File Date                  ship_to_party  \\\n0                   Mexico  2018-01-01   PROVEEDORA LA PERLA SA DE CV   \n1                   Mexico  2018-01-01   PROVEEDORA LA PERLA SA DE CV   \n2                   Mexico  2018-01-01   PROVEEDORA LA PERLA SA DE CV   \n3                   Mexico  2018-01-01   PROVEEDORA LA PERLA SA DE CV   \n4                   Mexico  2018-01-01   PROVEEDORA LA PERLA SA DE CV   \n\nfeature_forecasted    material model_type  Forecast Window  \\\n0                   06420103CE        gbm                1   \n1                   06420103CE        gbm                2   \n2                   06420103CE        gbm                3   \n3                   06420103CE        gbm                4   \n4                   06420103CE        gbm                5   \n\nfeature_forecasted  3p_sales_qty_total_mt  n3p_net_revenue      new_cogs  \\\n0                               14.288238      9356.830494   7473.038306   \n1                               16.640435     11744.716027   8501.395281   \n2                               20.553535     13262.050354  10183.032034   \n3                               21.972371     14210.221417  10019.871305   \n4                               22.852189     15125.678656  11180.685435   \n\nfeature_forecasted  operating_income  \n0                        2682.463222  \n1                        2933.295580  \n2                        3045.670859  \n3                        3555.812772  \n4                        3688.558770  ",
      "text/html": "<div>\n<style scoped>\n    .dataframe tbody tr th:only-of-type {\n        vertical-align: middle;\n    }\n\n    .dataframe tbody tr th {\n        vertical-align: top;\n    }\n\n    .dataframe thead th {\n        text-align: right;\n    }\n</style>\n<table border=\"1\" class=\"dataframe\">\n  <thead>\n    <tr style=\"text-align: right;\">\n      <th>feature_forecasted</th>\n      <th>Country</th>\n      <th>File Date</th>\n      <th>ship_to_party</th>\n      <th>material</th>\n      <th>model_type</th>\n      <th>Forecast Window</th>\n      <th>3p_sales_qty_total_mt</th>\n      <th>n3p_net_revenue</th>\n      <th>new_cogs</th>\n      <th>operating_income</th>\n    </tr>\n  </thead>\n  <tbody>\n    <tr>\n      <th>0</th>\n      <td>Mexico</td>\n      <td>2018-01-01</td>\n      <td>PROVEEDORA LA PERLA SA DE CV</td>\n      <td>06420103CE</td>\n      <td>gbm</td>\n      <td>1</td>\n      <td>14.288238</td>\n      <td>9356.830494</td>\n      <td>7473.038306</td>\n      <td>2682.463222</td>\n    </tr>\n    <tr>\n      <th>1</th>\n      <td>Mexico</td>\n      <td>2018-01-01</td>\n      <td>PROVEEDORA LA PERLA SA DE CV</td>\n      <td>06420103CE</td>\n      <td>gbm</td>\n      <td>2</td>\n      <td>16.640435</td>\n      <td>11744.716027</td>\n      <td>8501.395281</td>\n      <td>2933.295580</td>\n    </tr>\n    <tr>\n      <th>2</th>\n      <td>Mexico</td>\n      <td>2018-01-01</td>\n      <td>PROVEEDORA LA PERLA SA DE CV</td>\n      <td>06420103CE</td>\n      <td>gbm</td>\n      <td>3</td>\n      <td>20.553535</td>\n      <td>13262.050354</td>\n      <td>10183.032034</td>\n      <td>3045.670859</td>\n    </tr>\n    <tr>\n      <th>3</th>\n      <td>Mexico</td>\n      <td>2018-01-01</td>\n      <td>PROVEEDORA LA PERLA SA DE CV</td>\n      <td>06420103CE</td>\n      <td>gbm</td>\n      <td>4</td>\n      <td>21.972371</td>\n      <td>14210.221417</td>\n      <td>10019.871305</td>\n      <td>3555.812772</td>\n    </tr>\n    <tr>\n      <th>4</th>\n      <td>Mexico</td>\n      <td>2018-01-01</td>\n      <td>PROVEEDORA LA PERLA SA DE CV</td>\n      <td>06420103CE</td>\n      <td>gbm</td>\n      <td>5</td>\n      <td>22.852189</td>\n      <td>15125.678656</td>\n      <td>11180.685435</td>\n      <td>3688.558770</td>\n    </tr>\n  </tbody>\n</table>\n</div>"
     },
     "execution_count": 11,
     "metadata": {},
     "output_type": "execute_result"
    }
   ],
   "source": [
    "df_piv.head()"
   ],
   "metadata": {
    "collapsed": false,
    "pycharm": {
     "name": "#%%\n"
    }
   }
  },
  {
   "cell_type": "code",
   "execution_count": 7,
   "outputs": [],
   "source": [
    "with open(\"credentialsdb.yml\") as stream:\n",
    "    cred = yaml.safe_load(stream)"
   ],
   "metadata": {
    "collapsed": false,
    "pycharm": {
     "name": "#%%\n"
    }
   }
  },
  {
   "cell_type": "code",
   "execution_count": 8,
   "outputs": [
    {
     "data": {
      "text/plain": "'{ODBC Driver 17 for SQL Server}'"
     },
     "execution_count": 8,
     "metadata": {},
     "output_type": "execute_result"
    }
   ],
   "source": [
    "cred['DRIVER']"
   ],
   "metadata": {
    "collapsed": false,
    "pycharm": {
     "name": "#%%\n"
    }
   }
  },
  {
   "cell_type": "code",
   "execution_count": 9,
   "outputs": [],
   "source": [
    "params = urllib.parse.quote_plus(f\"DRIVER={cred['DRIVER']};\"\n",
    "                                 f\"SERVER={cred['SERVER']};\"\n",
    "                                 f\"DATABASE={cred['DATABASE']};\"\n",
    "                                 f\"UID={cred['UID']};\"\n",
    "                                 f\"PWD={cred['PWD']}\")\n",
    "\n"
   ],
   "metadata": {
    "collapsed": false,
    "pycharm": {
     "name": "#%%\n"
    }
   }
  },
  {
   "cell_type": "code",
   "execution_count": 10,
   "outputs": [],
   "source": [
    "engine = sqlalchemy.create_engine(f\"mssql+pyodbc:///?odbc_connect={params}\", fast_executemany=True)"
   ],
   "metadata": {
    "collapsed": false,
    "pycharm": {
     "name": "#%%\n"
    }
   }
  },
  {
   "cell_type": "code",
   "execution_count": 16,
   "outputs": [],
   "source": [
    "# engine = sqlalchemy.create_engine(\n",
    "# f\"mssql+pyodbc://{cred['UID']}:{cred['PWD']}@{cred['SERVER']}/{cred['DATABASE']}\"\n",
    "# )"
   ],
   "metadata": {
    "collapsed": false,
    "pycharm": {
     "name": "#%%\n"
    }
   }
  },
  {
   "cell_type": "code",
   "execution_count": 17,
   "outputs": [],
   "source": [
    "# df = pd.DataFrame({'a':[1,2,3], 'b':[4,5,6]})\n",
    "# df.to_sql('test', con=engine, schema='clean', if_exists='append')"
   ],
   "metadata": {
    "collapsed": false,
    "pycharm": {
     "name": "#%%\n"
    }
   }
  },
  {
   "cell_type": "code",
   "execution_count": 18,
   "outputs": [],
   "source": [
    "df_piv['File Date'] = df_piv['File Date'].astype(str)"
   ],
   "metadata": {
    "collapsed": false,
    "pycharm": {
     "name": "#%%\n"
    }
   }
  },
  {
   "cell_type": "code",
   "execution_count": 19,
   "outputs": [
    {
     "data": {
      "text/plain": "(1684272, 10)"
     },
     "execution_count": 19,
     "metadata": {},
     "output_type": "execute_result"
    }
   ],
   "source": [
    "df_piv.shape"
   ],
   "metadata": {
    "collapsed": false,
    "pycharm": {
     "name": "#%%\n"
    }
   }
  },
  {
   "cell_type": "code",
   "execution_count": 20,
   "outputs": [],
   "source": [
    "df_piv[['File Date','Forecast Window','model_type','ship_to_party','material','3p_sales_qty_total_mt','n3p_net_revenue','new_cogs', 'operating_income']].\\\n",
    "    to_sql('pl_data_mex_predicted2', con=engine, schema='dbo', if_exists='append', chunksize=10000, index_label=False)"
   ],
   "metadata": {
    "collapsed": false,
    "pycharm": {
     "name": "#%%\n"
    }
   }
  },
  {
   "cell_type": "code",
   "execution_count": 20,
   "outputs": [
    {
     "data": {
      "text/plain": "feature_forecasted\nFile Date                period[D]\nForecast Window              int64\nmodel_type                  object\nship_to_party               object\nmaterial                    object\n3p_sales_qty_total_mt      float64\nn3p_net_revenue            float64\nnew_cogs                   float64\noperating_income           float64\ndtype: object"
     },
     "execution_count": 20,
     "metadata": {},
     "output_type": "execute_result"
    }
   ],
   "source": [
    "df_piv[['File Date','Forecast Window','model_type','ship_to_party','material','3p_sales_qty_total_mt','n3p_net_revenue','new_cogs', 'operating_income']].dtypes"
   ],
   "metadata": {
    "collapsed": false,
    "pycharm": {
     "name": "#%%\n"
    }
   }
  },
  {
   "cell_type": "code",
   "execution_count": 21,
   "outputs": [
    {
     "data": {
      "text/plain": "0          2018-01-01\n1          2018-01-01\n2          2018-01-01\n3          2018-01-01\n4          2018-01-01\n              ...    \n1684267    2021-12-01\n1684268    2021-12-01\n1684269    2021-12-01\n1684270    2021-12-01\n1684271    2021-12-01\nName: File Date, Length: 1684272, dtype: object"
     },
     "execution_count": 21,
     "metadata": {},
     "output_type": "execute_result"
    }
   ],
   "source": [
    "df_piv['File Date'].astype(str)"
   ],
   "metadata": {
    "collapsed": false,
    "pycharm": {
     "name": "#%%\n"
    }
   }
  },
  {
   "cell_type": "code",
   "execution_count": 14,
   "outputs": [],
   "source": [
    "df_comp = pd.read_csv(\"./d_component.csv\")"
   ],
   "metadata": {
    "collapsed": false,
    "pycharm": {
     "name": "#%%\n"
    }
   }
  },
  {
   "cell_type": "code",
   "execution_count": 15,
   "outputs": [
    {
     "data": {
      "text/plain": "            component_ac         component_pred  \\\n0  3P Sales Qty Total MT  3p_sales_qty_total_mt   \n1      Gross Revenue USD      Gross Revenue USD   \n2        N3p Net Revenue        n3p_net_revenue   \n3               New COGS               new_cogs   \n4           Gross Profit           Gross Profit   \n5       Operating Income       operating_income   \n6             Net Income             Net Income   \n7       Total Net Income       Total Net Income   \n\n                     component_pred2  \n0  3P Sales Qty Total MT - Predicted  \n1                  Gross Revenue USD  \n2        N3P Net Revenue - Predicted  \n3               New COGS - Predicted  \n4                       Gross Profit  \n5       Operating Income - Predicted  \n6                         Net Income  \n7                   Total Net Income  ",
      "text/html": "<div>\n<style scoped>\n    .dataframe tbody tr th:only-of-type {\n        vertical-align: middle;\n    }\n\n    .dataframe tbody tr th {\n        vertical-align: top;\n    }\n\n    .dataframe thead th {\n        text-align: right;\n    }\n</style>\n<table border=\"1\" class=\"dataframe\">\n  <thead>\n    <tr style=\"text-align: right;\">\n      <th></th>\n      <th>component_ac</th>\n      <th>component_pred</th>\n      <th>component_pred2</th>\n    </tr>\n  </thead>\n  <tbody>\n    <tr>\n      <th>0</th>\n      <td>3P Sales Qty Total MT</td>\n      <td>3p_sales_qty_total_mt</td>\n      <td>3P Sales Qty Total MT - Predicted</td>\n    </tr>\n    <tr>\n      <th>1</th>\n      <td>Gross Revenue USD</td>\n      <td>Gross Revenue USD</td>\n      <td>Gross Revenue USD</td>\n    </tr>\n    <tr>\n      <th>2</th>\n      <td>N3p Net Revenue</td>\n      <td>n3p_net_revenue</td>\n      <td>N3P Net Revenue - Predicted</td>\n    </tr>\n    <tr>\n      <th>3</th>\n      <td>New COGS</td>\n      <td>new_cogs</td>\n      <td>New COGS - Predicted</td>\n    </tr>\n    <tr>\n      <th>4</th>\n      <td>Gross Profit</td>\n      <td>Gross Profit</td>\n      <td>Gross Profit</td>\n    </tr>\n    <tr>\n      <th>5</th>\n      <td>Operating Income</td>\n      <td>operating_income</td>\n      <td>Operating Income - Predicted</td>\n    </tr>\n    <tr>\n      <th>6</th>\n      <td>Net Income</td>\n      <td>Net Income</td>\n      <td>Net Income</td>\n    </tr>\n    <tr>\n      <th>7</th>\n      <td>Total Net Income</td>\n      <td>Total Net Income</td>\n      <td>Total Net Income</td>\n    </tr>\n  </tbody>\n</table>\n</div>"
     },
     "execution_count": 15,
     "metadata": {},
     "output_type": "execute_result"
    }
   ],
   "source": [
    "df_comp"
   ],
   "metadata": {
    "collapsed": false,
    "pycharm": {
     "name": "#%%\n"
    }
   }
  },
  {
   "cell_type": "code",
   "execution_count": 16,
   "outputs": [],
   "source": [
    "df_comp.to_sql('d_component', con=engine, schema='clean', if_exists='append', chunksize=10000, index_label=False)"
   ],
   "metadata": {
    "collapsed": false,
    "pycharm": {
     "name": "#%%\n"
    }
   }
  },
  {
   "cell_type": "code",
   "execution_count": 5,
   "outputs": [],
   "source": [
    "df_mc = pd.read_csv(\"./MonteCarlo.csv\")"
   ],
   "metadata": {
    "collapsed": false,
    "pycharm": {
     "name": "#%%\n"
    }
   }
  },
  {
   "cell_type": "code",
   "execution_count": 12,
   "outputs": [
    {
     "data": {
      "text/plain": "   File Date Country   model_type  forecast_window  \\\n0   20200101     CAN  Monte Carlo                0   \n1   20200201     CAN  Monte Carlo                0   \n2   20200301     CAN  Monte Carlo                0   \n3   20200401     CAN  Monte Carlo                0   \n4   20200501     CAN  Monte Carlo                0   \n\n                         metric_name    predicted  \n0  3P Sales Qty Total MT - Predicted  71156.74384  \n1  3P Sales Qty Total MT - Predicted  65614.89107  \n2  3P Sales Qty Total MT - Predicted  72083.96678  \n3  3P Sales Qty Total MT - Predicted  75227.02365  \n4  3P Sales Qty Total MT - Predicted  77830.01218  ",
      "text/html": "<div>\n<style scoped>\n    .dataframe tbody tr th:only-of-type {\n        vertical-align: middle;\n    }\n\n    .dataframe tbody tr th {\n        vertical-align: top;\n    }\n\n    .dataframe thead th {\n        text-align: right;\n    }\n</style>\n<table border=\"1\" class=\"dataframe\">\n  <thead>\n    <tr style=\"text-align: right;\">\n      <th></th>\n      <th>File Date</th>\n      <th>Country</th>\n      <th>model_type</th>\n      <th>forecast_window</th>\n      <th>metric_name</th>\n      <th>predicted</th>\n    </tr>\n  </thead>\n  <tbody>\n    <tr>\n      <th>0</th>\n      <td>20200101</td>\n      <td>CAN</td>\n      <td>Monte Carlo</td>\n      <td>0</td>\n      <td>3P Sales Qty Total MT - Predicted</td>\n      <td>71156.74384</td>\n    </tr>\n    <tr>\n      <th>1</th>\n      <td>20200201</td>\n      <td>CAN</td>\n      <td>Monte Carlo</td>\n      <td>0</td>\n      <td>3P Sales Qty Total MT - Predicted</td>\n      <td>65614.89107</td>\n    </tr>\n    <tr>\n      <th>2</th>\n      <td>20200301</td>\n      <td>CAN</td>\n      <td>Monte Carlo</td>\n      <td>0</td>\n      <td>3P Sales Qty Total MT - Predicted</td>\n      <td>72083.96678</td>\n    </tr>\n    <tr>\n      <th>3</th>\n      <td>20200401</td>\n      <td>CAN</td>\n      <td>Monte Carlo</td>\n      <td>0</td>\n      <td>3P Sales Qty Total MT - Predicted</td>\n      <td>75227.02365</td>\n    </tr>\n    <tr>\n      <th>4</th>\n      <td>20200501</td>\n      <td>CAN</td>\n      <td>Monte Carlo</td>\n      <td>0</td>\n      <td>3P Sales Qty Total MT - Predicted</td>\n      <td>77830.01218</td>\n    </tr>\n  </tbody>\n</table>\n</div>"
     },
     "execution_count": 12,
     "metadata": {},
     "output_type": "execute_result"
    }
   ],
   "source": [
    "df_mc.head()"
   ],
   "metadata": {
    "collapsed": false,
    "pycharm": {
     "name": "#%%\n"
    }
   }
  },
  {
   "cell_type": "code",
   "execution_count": 13,
   "outputs": [],
   "source": [
    "df_mc.to_sql('pl_data_all_predicted', con=engine, schema='dbo', if_exists='append', chunksize=10000, index=False)"
   ],
   "metadata": {
    "collapsed": false,
    "pycharm": {
     "name": "#%%\n"
    }
   }
  },
  {
   "cell_type": "code",
   "execution_count": null,
   "outputs": [],
   "source": [],
   "metadata": {
    "collapsed": false,
    "pycharm": {
     "name": "#%%\n"
    }
   }
  },
  {
   "cell_type": "markdown",
   "source": [],
   "metadata": {
    "collapsed": false,
    "pycharm": {
     "name": "#%% md\n"
    }
   }
  }
 ],
 "metadata": {
  "kernelspec": {
   "display_name": "Python 3",
   "language": "python",
   "name": "python3"
  },
  "language_info": {
   "codemirror_mode": {
    "name": "ipython",
    "version": 2
   },
   "file_extension": ".py",
   "mimetype": "text/x-python",
   "name": "python",
   "nbconvert_exporter": "python",
   "pygments_lexer": "ipython2",
   "version": "2.7.6"
  }
 },
 "nbformat": 4,
 "nbformat_minor": 0
}
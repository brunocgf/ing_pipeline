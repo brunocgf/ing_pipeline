{
 "cells": [
  {
   "cell_type": "code",
   "execution_count": 1,
   "source": [
    "import io, os, uuid, yaml\r\n",
    "import numpy as np\r\n",
    "import pandas as pd\r\n",
    "from azure.storage.blob import BlobServiceClient, BlobClient, ContainerClient\r\n",
    "from src.pipeline import utils, azure_tools\r\n"
   ],
   "outputs": [],
   "metadata": {}
  },
  {
   "cell_type": "code",
   "execution_count": 2,
   "source": [
    "credentials = utils.load_credentials(\"blob_storage\")"
   ],
   "outputs": [],
   "metadata": {}
  },
  {
   "cell_type": "code",
   "execution_count": 3,
   "source": [
    "container_input = \"reports-ingredion\"\r\n",
    "container_client = azure_tools.get_container_client(container_input,credentials['conn_string'])"
   ],
   "outputs": [],
   "metadata": {}
  },
  {
   "cell_type": "code",
   "execution_count": 4,
   "source": [
    "# name of the existing container\r\n",
    "blob_list = azure_tools.get_blob_list(container_client)"
   ],
   "outputs": [],
   "metadata": {}
  },
  {
   "cell_type": "code",
   "execution_count": 5,
   "source": [
    "container_output = \"intermidiate-ingredion\""
   ],
   "outputs": [],
   "metadata": {}
  },
  {
   "cell_type": "code",
   "execution_count": 6,
   "source": [
    "df = azure_tools.transform_pl_files(blob_list[:6], container_input, container_output, credentials['conn_string'])"
   ],
   "outputs": [
    {
     "output_type": "stream",
     "name": "stdout",
     "text": [
      "Processing:  1-2016 US P&L by Ship To & Material(ZBW_ZANDTM001_Q00NI)\n",
      "Uploading:  1-2016 US P&L by Ship To & Material(ZBW_ZANDTM001_Q00NI)\n",
      "Uploded file:  US/1-2016.parquet\n",
      "Processing:  1-2017 US P&L by Ship To & Material(ZBW_ZANDTM001_Q00NI)\n",
      "Uploading:  1-2017 US P&L by Ship To & Material(ZBW_ZANDTM001_Q00NI)\n",
      "Uploded file:  US/1-2017.parquet\n",
      "Processing:  1-2018 US P&L by Ship To & Material(ZBW_ZANDTM001_Q00NI)\n",
      "Uploading:  1-2018 US P&L by Ship To & Material(ZBW_ZANDTM001_Q00NI)\n",
      "Uploded file:  US/1-2018.parquet\n"
     ]
    }
   ],
   "metadata": {}
  },
  {
   "cell_type": "markdown",
   "source": [
    "## Read data"
   ],
   "metadata": {}
  },
  {
   "cell_type": "code",
   "execution_count": 13,
   "source": [
    "container_client = azure_tools.get_container_client(container_output,credentials['conn_string'])\r\n",
    "blob_list = azure_tools.get_blob_list(container_client)\r\n",
    "blob_list"
   ],
   "outputs": [
    {
     "output_type": "execute_result",
     "data": {
      "text/plain": [
       "['US/1-2016.parquet', 'US/1-2017.parquet', 'US/1-2018.parquet']"
      ]
     },
     "metadata": {},
     "execution_count": 13
    }
   ],
   "metadata": {}
  },
  {
   "cell_type": "code",
   "execution_count": 8,
   "source": [
    "df_test = azure_tools.read_transform_pl(container_output, credentials['conn_string'], country=\"US\")"
   ],
   "outputs": [],
   "metadata": {}
  },
  {
   "cell_type": "code",
   "execution_count": 9,
   "source": [
    "df_test.shape"
   ],
   "outputs": [
    {
     "output_type": "execute_result",
     "data": {
      "text/plain": [
       "(18388, 48)"
      ]
     },
     "metadata": {},
     "execution_count": 9
    }
   ],
   "metadata": {}
  },
  {
   "cell_type": "code",
   "execution_count": 11,
   "source": [
    "df_test.info()"
   ],
   "outputs": [
    {
     "output_type": "stream",
     "name": "stdout",
     "text": [
      "<class 'pandas.core.frame.DataFrame'>\n",
      "Int64Index: 18388 entries, 0 to 5960\n",
      "Data columns (total 48 columns):\n",
      " #   Column                             Non-Null Count  Dtype  \n",
      "---  ------                             --------------  -----  \n",
      " 0   Fiscal year/period                 18388 non-null  float64\n",
      " 1   Company Code                       18388 non-null  object \n",
      " 2   Unnamed: 8                         18388 non-null  float64\n",
      " 3   Ship to party                      18388 non-null  object \n",
      " 4   Unnamed: 10                        18388 non-null  object \n",
      " 5   Material                           18145 non-null  object \n",
      " 6   Commercial Name                    18388 non-null  object \n",
      " 7   Sales Qty Total MT                 18384 non-null  float64\n",
      " 8   3P Sales Qty Total MT              16134 non-null  float64\n",
      " 9   Gross Revenue USD                  18388 non-null  float64\n",
      " 10  Discounts USD                      18388 non-null  float64\n",
      " 11  New Net Revenue                    18388 non-null  float64\n",
      " 12  N3P Net Revenue                    16138 non-null  float64\n",
      " 13  Net Corn                           18388 non-null  float64\n",
      " 14  Raw Material Other                 18388 non-null  float64\n",
      " 15  Utilities                          18388 non-null  float64\n",
      " 16  Waste                              18388 non-null  float64\n",
      " 17  Repair                             18388 non-null  float64\n",
      " 18  Labor                              18388 non-null  float64\n",
      " 19  OHMfg                              18388 non-null  float64\n",
      " 20  Supplies & Packaging               18388 non-null  float64\n",
      " 21  Supplies - Indirect                18388 non-null  float64\n",
      " 22  Depreciation                       18388 non-null  float64\n",
      " 23  3P Freight USD                     16138 non-null  float64\n",
      " 24  Logistics                          18388 non-null  float64\n",
      " 25  COS Other                          18388 non-null  float64\n",
      " 26  New COGS                           18388 non-null  float64\n",
      " 27  Freight USD                        18388 non-null  float64\n",
      " 28  Intercompany Cost Elimination      18388 non-null  float64\n",
      " 29  Gross Profit                       18388 non-null  float64\n",
      " 30  SGA Total                          18388 non-null  float64\n",
      " 31  Other (Income)/Expense             18388 non-null  float64\n",
      " 32  Operating Income                   18388 non-null  float64\n",
      " 33  Other Non-Operating (Income)/Loss  9 non-null      float64\n",
      " 34  Special Items                      9 non-null      float64\n",
      " 35  Interco Dividends                  9 non-null      float64\n",
      " 36  Charge Back                        9 non-null      float64\n",
      " 37  Exchange Gain / Loss               9 non-null      float64\n",
      " 38  Intercompany Financing Cost        9 non-null      float64\n",
      " 39  Financing Costs                    9 non-null      float64\n",
      " 40  Fees and Royalties                 9 non-null      float64\n",
      " 41  PBT                                18388 non-null  float64\n",
      " 42  Taxes on Income                    9 non-null      float64\n",
      " 43  Net Income                         18388 non-null  float64\n",
      " 44  Minority Income                    9 non-null      float64\n",
      " 45  Adj Minority Income                9 non-null      float64\n",
      " 46  Total Net Income                   18388 non-null  float64\n",
      " 47  ING10000 INGR Net Income           18388 non-null  float64\n",
      "dtypes: float64(43), object(5)\n",
      "memory usage: 6.9+ MB\n"
     ]
    }
   ],
   "metadata": {}
  },
  {
   "cell_type": "code",
   "execution_count": null,
   "source": [],
   "outputs": [],
   "metadata": {}
  }
 ],
 "metadata": {
  "orig_nbformat": 4,
  "language_info": {
   "name": "python",
   "version": "3.9.6",
   "mimetype": "text/x-python",
   "codemirror_mode": {
    "name": "ipython",
    "version": 3
   },
   "pygments_lexer": "ipython3",
   "nbconvert_exporter": "python",
   "file_extension": ".py"
  },
  "kernelspec": {
   "name": "python3",
   "display_name": "Python 3.9.6 64-bit ('azure_env': conda)"
  },
  "interpreter": {
   "hash": "15fd77f39075a101c0ddb7fa73065956cd918a6c64abad10f23882cfd32495f7"
  }
 },
 "nbformat": 4,
 "nbformat_minor": 2
}
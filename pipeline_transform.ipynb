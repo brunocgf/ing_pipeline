{
 "cells": [
  {
   "cell_type": "code",
   "execution_count": 1,
   "source": [
    "import io, os, uuid, yaml\r\n",
    "import numpy as np\r\n",
    "import pandas as pd\r\n",
    "from azure.storage.blob import BlobServiceClient, BlobClient, ContainerClient\r\n",
    "from src.pipeline import utils, azure_tools\r\n"
   ],
   "outputs": [],
   "metadata": {}
  },
  {
   "cell_type": "markdown",
   "source": [
    "Se cargan las credenciales"
   ],
   "metadata": {}
  },
  {
   "cell_type": "code",
   "execution_count": 2,
   "source": [
    "credentials = utils.load_credentials(\"blob_storage\")"
   ],
   "outputs": [],
   "metadata": {}
  },
  {
   "cell_type": "markdown",
   "source": [
    "Código de prueba para la Azure Function"
   ],
   "metadata": {}
  },
  {
   "cell_type": "code",
   "execution_count": 145,
   "source": [
    "# blob  = BlobClient.from_connection_string(credentials['conn_string'], container_name = \"reports-ingredion\", blob_name=\"test Brazil.xlsm\")\r\n",
    "# with open(\"./test Brazil P&L.xlsm\", \"rb\") as file:\r\n",
    "#     blob.upload_blob(file)"
   ],
   "outputs": [],
   "metadata": {}
  },
  {
   "cell_type": "code",
   "execution_count": 6,
   "source": [
    "# container_client = azure_tools.get_container_client(\"reports-ingredion\",credentials['conn_string'])\r\n",
    "# blob_list = azure_tools.get_blob_list(container_client)\r\n",
    "# container_client.delete_blob(\"test Brazil.xlsm\")"
   ],
   "outputs": [],
   "metadata": {}
  },
  {
   "cell_type": "markdown",
   "source": [
    "Se obtienen la lista de archivos en *Raw*"
   ],
   "metadata": {}
  },
  {
   "cell_type": "code",
   "execution_count": 7,
   "source": [
    "container_input = \"reports-ingredion\"\r\n",
    "container_client = azure_tools.get_container_client(container_input,credentials['conn_string'])"
   ],
   "outputs": [],
   "metadata": {}
  },
  {
   "cell_type": "code",
   "execution_count": 8,
   "source": [
    "# name of the existing container\r\n",
    "blob_list = azure_tools.get_blob_list(container_client)"
   ],
   "outputs": [],
   "metadata": {}
  },
  {
   "cell_type": "code",
   "execution_count": 9,
   "source": [
    "len(blob_list)"
   ],
   "outputs": [
    {
     "output_type": "execute_result",
     "data": {
      "text/plain": [
       "120"
      ]
     },
     "metadata": {},
     "execution_count": 9
    }
   ],
   "metadata": {}
  },
  {
   "cell_type": "markdown",
   "source": [
    "Se obtiene lista de archivos en *clean*"
   ],
   "metadata": {}
  },
  {
   "cell_type": "code",
   "execution_count": 26,
   "source": [
    "container_output = \"intermediate-ingredion\""
   ],
   "outputs": [],
   "metadata": {}
  },
  {
   "cell_type": "code",
   "execution_count": 27,
   "source": [
    "container_client = azure_tools.get_container_client(container_output,credentials['conn_string'])\r\n",
    "blob_list = azure_tools.get_blob_list(container_client)"
   ],
   "outputs": [],
   "metadata": {}
  },
  {
   "cell_type": "code",
   "execution_count": 28,
   "source": [
    "len(blob_list)"
   ],
   "outputs": [
    {
     "output_type": "execute_result",
     "data": {
      "text/plain": [
       "8"
      ]
     },
     "metadata": {},
     "execution_count": 28
    }
   ],
   "metadata": {}
  },
  {
   "cell_type": "code",
   "execution_count": 13,
   "source": [
    "blob_list"
   ],
   "outputs": [
    {
     "output_type": "execute_result",
     "data": {
      "text/plain": [
       "['test Brazil.xlsm']"
      ]
     },
     "metadata": {},
     "execution_count": 13
    }
   ],
   "metadata": {}
  },
  {
   "cell_type": "code",
   "execution_count": null,
   "source": [
    "# blob_client = BlobServiceClient.from_connection_string(credentials['conn_string'])\r\n",
    "# container_client = blob_client.create_container(container_output)"
   ],
   "outputs": [],
   "metadata": {}
  },
  {
   "cell_type": "code",
   "execution_count": 6,
   "source": [
    "df = azure_tools.transform_pl_files(blob_list[:6], container_input, container_output, credentials['conn_string'])"
   ],
   "outputs": [
    {
     "output_type": "stream",
     "name": "stdout",
     "text": [
      "Processing:  1-2016 US P&L by Ship To & Material(ZBW_ZANDTM001_Q00NI)\n",
      "Uploading:  1-2016 US P&L by Ship To & Material(ZBW_ZANDTM001_Q00NI)\n",
      "Uploded file:  US/1-2016.parquet\n",
      "Processing:  1-2017 US P&L by Ship To & Material(ZBW_ZANDTM001_Q00NI)\n",
      "Uploading:  1-2017 US P&L by Ship To & Material(ZBW_ZANDTM001_Q00NI)\n",
      "Uploded file:  US/1-2017.parquet\n",
      "Processing:  1-2018 US P&L by Ship To & Material(ZBW_ZANDTM001_Q00NI)\n",
      "Uploading:  1-2018 US P&L by Ship To & Material(ZBW_ZANDTM001_Q00NI)\n",
      "Uploded file:  US/1-2018.parquet\n"
     ]
    }
   ],
   "metadata": {}
  },
  {
   "cell_type": "markdown",
   "source": [
    "## Read data"
   ],
   "metadata": {}
  },
  {
   "cell_type": "code",
   "execution_count": 17,
   "source": [
    "container_client = azure_tools.get_container_client(container_output,credentials['conn_string'])\r\n",
    "blob_list = azure_tools.get_blob_list(container_client)\r\n",
    "#container_client.delete_blob(file)"
   ],
   "outputs": [],
   "metadata": {}
  },
  {
   "cell_type": "code",
   "execution_count": 18,
   "source": [
    "len(blob_list)"
   ],
   "outputs": [
    {
     "output_type": "execute_result",
     "data": {
      "text/plain": [
       "0"
      ]
     },
     "metadata": {},
     "execution_count": 18
    }
   ],
   "metadata": {}
  },
  {
   "cell_type": "code",
   "execution_count": 19,
   "source": [
    "for file in blob_list:\r\n",
    "    container_client.delete_blob(file)"
   ],
   "outputs": [],
   "metadata": {}
  },
  {
   "cell_type": "code",
   "execution_count": 151,
   "source": [
    "df_test = azure_tools.read_transform_pl(container_output,credentials['conn_string'])"
   ],
   "outputs": [
    {
     "output_type": "error",
     "ename": "ValueError",
     "evalue": "No objects to concatenate",
     "traceback": [
      "\u001b[1;31m---------------------------------------------------------------------------\u001b[0m",
      "\u001b[1;31mValueError\u001b[0m                                Traceback (most recent call last)",
      "\u001b[1;32mC:\\Users\\BRUNO~1.GON\\AppData\\Local\\Temp/ipykernel_11780/3881853471.py\u001b[0m in \u001b[0;36m<module>\u001b[1;34m\u001b[0m\n\u001b[1;32m----> 1\u001b[1;33m \u001b[0mdf_test\u001b[0m \u001b[1;33m=\u001b[0m \u001b[0mazure_tools\u001b[0m\u001b[1;33m.\u001b[0m\u001b[0mread_transform_pl\u001b[0m\u001b[1;33m(\u001b[0m\u001b[0mcontainer_output\u001b[0m\u001b[1;33m,\u001b[0m\u001b[0mcredentials\u001b[0m\u001b[1;33m[\u001b[0m\u001b[1;34m'conn_string'\u001b[0m\u001b[1;33m]\u001b[0m\u001b[1;33m)\u001b[0m\u001b[1;33m\u001b[0m\u001b[1;33m\u001b[0m\u001b[0m\n\u001b[0m",
      "\u001b[1;32mc:\\Users\\bruno.gonzalez\\Projects\\Ingredion\\src\\pipeline\\azure_tools.py\u001b[0m in \u001b[0;36mread_transform_pl\u001b[1;34m(container, credentials, country)\u001b[0m\n\u001b[0;32m    103\u001b[0m         \u001b[0mdf_list\u001b[0m\u001b[1;33m.\u001b[0m\u001b[0mappend\u001b[0m\u001b[1;33m(\u001b[0m\u001b[0mdf_f\u001b[0m\u001b[1;33m)\u001b[0m\u001b[1;33m\u001b[0m\u001b[1;33m\u001b[0m\u001b[0m\n\u001b[0;32m    104\u001b[0m \u001b[1;33m\u001b[0m\u001b[0m\n\u001b[1;32m--> 105\u001b[1;33m     \u001b[1;32mreturn\u001b[0m\u001b[1;33m(\u001b[0m\u001b[0mpd\u001b[0m\u001b[1;33m.\u001b[0m\u001b[0mconcat\u001b[0m\u001b[1;33m(\u001b[0m\u001b[0mdf_list\u001b[0m\u001b[1;33m)\u001b[0m\u001b[1;33m)\u001b[0m\u001b[1;33m\u001b[0m\u001b[1;33m\u001b[0m\u001b[0m\n\u001b[0m\u001b[0;32m    106\u001b[0m \u001b[1;33m\u001b[0m\u001b[0m\n\u001b[0;32m    107\u001b[0m \u001b[1;33m\u001b[0m\u001b[0m\n",
      "\u001b[1;32m~\\Miniconda3\\envs\\azure_env\\lib\\site-packages\\pandas\\util\\_decorators.py\u001b[0m in \u001b[0;36mwrapper\u001b[1;34m(*args, **kwargs)\u001b[0m\n\u001b[0;32m    309\u001b[0m                     \u001b[0mstacklevel\u001b[0m\u001b[1;33m=\u001b[0m\u001b[0mstacklevel\u001b[0m\u001b[1;33m,\u001b[0m\u001b[1;33m\u001b[0m\u001b[1;33m\u001b[0m\u001b[0m\n\u001b[0;32m    310\u001b[0m                 )\n\u001b[1;32m--> 311\u001b[1;33m             \u001b[1;32mreturn\u001b[0m \u001b[0mfunc\u001b[0m\u001b[1;33m(\u001b[0m\u001b[1;33m*\u001b[0m\u001b[0margs\u001b[0m\u001b[1;33m,\u001b[0m \u001b[1;33m**\u001b[0m\u001b[0mkwargs\u001b[0m\u001b[1;33m)\u001b[0m\u001b[1;33m\u001b[0m\u001b[1;33m\u001b[0m\u001b[0m\n\u001b[0m\u001b[0;32m    312\u001b[0m \u001b[1;33m\u001b[0m\u001b[0m\n\u001b[0;32m    313\u001b[0m         \u001b[1;32mreturn\u001b[0m \u001b[0mwrapper\u001b[0m\u001b[1;33m\u001b[0m\u001b[1;33m\u001b[0m\u001b[0m\n",
      "\u001b[1;32m~\\Miniconda3\\envs\\azure_env\\lib\\site-packages\\pandas\\core\\reshape\\concat.py\u001b[0m in \u001b[0;36mconcat\u001b[1;34m(objs, axis, join, ignore_index, keys, levels, names, verify_integrity, sort, copy)\u001b[0m\n\u001b[0;32m    292\u001b[0m     \u001b[0mValueError\u001b[0m\u001b[1;33m:\u001b[0m \u001b[0mIndexes\u001b[0m \u001b[0mhave\u001b[0m \u001b[0moverlapping\u001b[0m \u001b[0mvalues\u001b[0m\u001b[1;33m:\u001b[0m \u001b[1;33m[\u001b[0m\u001b[1;34m'a'\u001b[0m\u001b[1;33m]\u001b[0m\u001b[1;33m\u001b[0m\u001b[1;33m\u001b[0m\u001b[0m\n\u001b[0;32m    293\u001b[0m     \"\"\"\n\u001b[1;32m--> 294\u001b[1;33m     op = _Concatenator(\n\u001b[0m\u001b[0;32m    295\u001b[0m         \u001b[0mobjs\u001b[0m\u001b[1;33m,\u001b[0m\u001b[1;33m\u001b[0m\u001b[1;33m\u001b[0m\u001b[0m\n\u001b[0;32m    296\u001b[0m         \u001b[0maxis\u001b[0m\u001b[1;33m=\u001b[0m\u001b[0maxis\u001b[0m\u001b[1;33m,\u001b[0m\u001b[1;33m\u001b[0m\u001b[1;33m\u001b[0m\u001b[0m\n",
      "\u001b[1;32m~\\Miniconda3\\envs\\azure_env\\lib\\site-packages\\pandas\\core\\reshape\\concat.py\u001b[0m in \u001b[0;36m__init__\u001b[1;34m(self, objs, axis, join, keys, levels, names, ignore_index, verify_integrity, copy, sort)\u001b[0m\n\u001b[0;32m    349\u001b[0m \u001b[1;33m\u001b[0m\u001b[0m\n\u001b[0;32m    350\u001b[0m         \u001b[1;32mif\u001b[0m \u001b[0mlen\u001b[0m\u001b[1;33m(\u001b[0m\u001b[0mobjs\u001b[0m\u001b[1;33m)\u001b[0m \u001b[1;33m==\u001b[0m \u001b[1;36m0\u001b[0m\u001b[1;33m:\u001b[0m\u001b[1;33m\u001b[0m\u001b[1;33m\u001b[0m\u001b[0m\n\u001b[1;32m--> 351\u001b[1;33m             \u001b[1;32mraise\u001b[0m \u001b[0mValueError\u001b[0m\u001b[1;33m(\u001b[0m\u001b[1;34m\"No objects to concatenate\"\u001b[0m\u001b[1;33m)\u001b[0m\u001b[1;33m\u001b[0m\u001b[1;33m\u001b[0m\u001b[0m\n\u001b[0m\u001b[0;32m    352\u001b[0m \u001b[1;33m\u001b[0m\u001b[0m\n\u001b[0;32m    353\u001b[0m         \u001b[1;32mif\u001b[0m \u001b[0mkeys\u001b[0m \u001b[1;32mis\u001b[0m \u001b[1;32mNone\u001b[0m\u001b[1;33m:\u001b[0m\u001b[1;33m\u001b[0m\u001b[1;33m\u001b[0m\u001b[0m\n",
      "\u001b[1;31mValueError\u001b[0m: No objects to concatenate"
     ]
    }
   ],
   "metadata": {}
  },
  {
   "cell_type": "code",
   "execution_count": 24,
   "source": [
    "df_test.shape"
   ],
   "outputs": [
    {
     "output_type": "execute_result",
     "data": {
      "text/plain": [
       "(375011, 48)"
      ]
     },
     "metadata": {},
     "execution_count": 24
    }
   ],
   "metadata": {}
  },
  {
   "cell_type": "code",
   "execution_count": 25,
   "source": [
    "df_test.info()"
   ],
   "outputs": [
    {
     "output_type": "stream",
     "name": "stdout",
     "text": [
      "<class 'pandas.core.frame.DataFrame'>\n",
      "Int64Index: 375011 entries, 0 to 7328\n",
      "Data columns (total 48 columns):\n",
      " #   Column                             Non-Null Count   Dtype  \n",
      "---  ------                             --------------   -----  \n",
      " 0   Fiscal year/period                 375011 non-null  float64\n",
      " 1   Company Code                       375011 non-null  object \n",
      " 2   Unnamed: 8                         375011 non-null  float64\n",
      " 3   Ship to party                      375011 non-null  object \n",
      " 4   Unnamed: 10                        375011 non-null  object \n",
      " 5   Material                           370077 non-null  object \n",
      " 6   Commercial Name                    375011 non-null  object \n",
      " 7   Sales Qty Total MT                 373705 non-null  float64\n",
      " 8   3P Sales Qty Total MT              322723 non-null  float64\n",
      " 9   Gross Revenue USD                  375011 non-null  float64\n",
      " 10  Discounts USD                      375011 non-null  float64\n",
      " 11  New Net Revenue                    375011 non-null  float64\n",
      " 12  N3P Net Revenue                    323945 non-null  float64\n",
      " 13  Net Corn                           375011 non-null  float64\n",
      " 14  Raw Material Other                 375011 non-null  float64\n",
      " 15  Utilities                          375011 non-null  float64\n",
      " 16  Waste                              375011 non-null  float64\n",
      " 17  Repair                             375011 non-null  float64\n",
      " 18  Labor                              375011 non-null  float64\n",
      " 19  OHMfg                              375011 non-null  float64\n",
      " 20  Supplies & Packaging               375011 non-null  float64\n",
      " 21  Supplies - Indirect                375011 non-null  float64\n",
      " 22  Depreciation                       375011 non-null  float64\n",
      " 23  3P Freight USD                     323945 non-null  float64\n",
      " 24  Logistics                          375011 non-null  float64\n",
      " 25  COS Other                          375011 non-null  float64\n",
      " 26  New COGS                           375011 non-null  float64\n",
      " 27  Freight USD                        375011 non-null  float64\n",
      " 28  Intercompany Cost Elimination      375011 non-null  float64\n",
      " 29  Gross Profit                       375011 non-null  float64\n",
      " 30  SGA Total                          375011 non-null  float64\n",
      " 31  Other (Income)/Expense             375011 non-null  float64\n",
      " 32  Operating Income                   375011 non-null  float64\n",
      " 33  Other Non-Operating (Income)/Loss  398 non-null     float64\n",
      " 34  Special Items                      398 non-null     float64\n",
      " 35  Interco Dividends                  398 non-null     float64\n",
      " 36  Charge Back                        398 non-null     float64\n",
      " 37  Exchange Gain / Loss               398 non-null     float64\n",
      " 38  Intercompany Financing Cost        398 non-null     float64\n",
      " 39  Financing Costs                    398 non-null     float64\n",
      " 40  Fees and Royalties                 398 non-null     float64\n",
      " 41  PBT                                375011 non-null  float64\n",
      " 42  Taxes on Income                    398 non-null     float64\n",
      " 43  Net Income                         375011 non-null  float64\n",
      " 44  Minority Income                    398 non-null     float64\n",
      " 45  Adj Minority Income                398 non-null     float64\n",
      " 46  Total Net Income                   375011 non-null  float64\n",
      " 47  ING10000 INGR Net Income           375011 non-null  float64\n",
      "dtypes: float64(43), object(5)\n",
      "memory usage: 140.2+ MB\n"
     ]
    }
   ],
   "metadata": {}
  },
  {
   "cell_type": "code",
   "execution_count": 153,
   "source": [
    "container_client = azure_tools.get_container_client(container_output,credentials['conn_string'])\r\n",
    "stream = container_client.download_blob(blob_list[0])\r\n",
    "file = io.BytesIO()\r\n",
    "stream.readinto(file)\r\n",
    "df_f = pd.read_parquet(file)"
   ],
   "outputs": [],
   "metadata": {}
  },
  {
   "cell_type": "code",
   "execution_count": 154,
   "source": [
    "df_f.info()"
   ],
   "outputs": [
    {
     "output_type": "stream",
     "name": "stdout",
     "text": [
      "<class 'pandas.core.frame.DataFrame'>\n",
      "Int64Index: 2415 entries, 0 to 2414\n",
      "Data columns (total 48 columns):\n",
      " #   Column                             Non-Null Count  Dtype  \n",
      "---  ------                             --------------  -----  \n",
      " 0   Fiscal year/period                 2415 non-null   float64\n",
      " 1   Company Code                       2415 non-null   object \n",
      " 2   Unnamed: 8                         2415 non-null   float64\n",
      " 3   Ship to party                      2415 non-null   object \n",
      " 4   Unnamed: 10                        2415 non-null   object \n",
      " 5   Material                           2415 non-null   object \n",
      " 6   Commercial Name                    2415 non-null   object \n",
      " 7   Sales Qty Total MT                 2415 non-null   float64\n",
      " 8   3P Sales Qty Total MT              2285 non-null   float64\n",
      " 9   Gross Revenue USD                  2415 non-null   float64\n",
      " 10  Discounts USD                      2415 non-null   int64  \n",
      " 11  New Net Revenue                    2415 non-null   float64\n",
      " 12  N3P Net Revenue                    2285 non-null   float64\n",
      " 13  Net Corn                           2415 non-null   float64\n",
      " 14  Raw Material Other                 2415 non-null   float64\n",
      " 15  Utilities                          2415 non-null   float64\n",
      " 16  Waste                              2415 non-null   int64  \n",
      " 17  Repair                             2415 non-null   float64\n",
      " 18  Labor                              2415 non-null   float64\n",
      " 19  OHMfg                              2415 non-null   float64\n",
      " 20  Supplies & Packaging               2415 non-null   float64\n",
      " 21  Supplies - Indirect                2415 non-null   float64\n",
      " 22  Depreciation                       2415 non-null   float64\n",
      " 23  3P Freight USD                     2285 non-null   float64\n",
      " 24  Logistics                          2415 non-null   float64\n",
      " 25  COS Other                          2415 non-null   float64\n",
      " 26  New COGS                           2415 non-null   float64\n",
      " 27  Freight USD                        2415 non-null   float64\n",
      " 28  Intercompany Cost Elimination      2415 non-null   float64\n",
      " 29  Gross Profit                       2415 non-null   float64\n",
      " 30  SGA Total                          2415 non-null   float64\n",
      " 31  Other (Income)/Expense             2415 non-null   float64\n",
      " 32  Operating Income                   2415 non-null   float64\n",
      " 33  Other Non-Operating (Income)/Loss  2415 non-null   int64  \n",
      " 34  Special Items                      2415 non-null   int64  \n",
      " 35  Interco Dividends                  2415 non-null   int64  \n",
      " 36  Charge Back                        2415 non-null   int64  \n",
      " 37  Exchange Gain / Loss               2415 non-null   float64\n",
      " 38  Intercompany Financing Cost        2415 non-null   float64\n",
      " 39  Financing Costs                    2415 non-null   float64\n",
      " 40  Fees and Royalties                 2415 non-null   float64\n",
      " 41  PBT                                2415 non-null   float64\n",
      " 42  Taxes on Income                    2415 non-null   float64\n",
      " 43  Net Income                         2415 non-null   float64\n",
      " 44  Minority Income                    2415 non-null   int64  \n",
      " 45  Adj Minority Income                2415 non-null   int64  \n",
      " 46  Total Net Income                   2415 non-null   float64\n",
      " 47  ING10000 INGR Net Income           2415 non-null   float64\n",
      "dtypes: float64(35), int64(8), object(5)\n",
      "memory usage: 924.5+ KB\n"
     ]
    }
   ],
   "metadata": {}
  },
  {
   "cell_type": "code",
   "execution_count": null,
   "source": [],
   "outputs": [],
   "metadata": {}
  }
 ],
 "metadata": {
  "orig_nbformat": 4,
  "language_info": {
   "name": "python",
   "version": "3.9.6",
   "mimetype": "text/x-python",
   "codemirror_mode": {
    "name": "ipython",
    "version": 3
   },
   "pygments_lexer": "ipython3",
   "nbconvert_exporter": "python",
   "file_extension": ".py"
  },
  "kernelspec": {
   "name": "python3",
   "display_name": "Python 3.9.6 64-bit ('azure_env': conda)"
  },
  "interpreter": {
   "hash": "15fd77f39075a101c0ddb7fa73065956cd918a6c64abad10f23882cfd32495f7"
  }
 },
 "nbformat": 4,
 "nbformat_minor": 2
}
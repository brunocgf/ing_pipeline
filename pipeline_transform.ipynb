{
 "cells": [
  {
   "cell_type": "code",
   "execution_count": 13,
   "source": [
    "import os, uuid, yaml\r\n",
    "from azure.storage.blob import BlobServiceClient, BlobClient, ContainerClient\r\n",
    "from src.pipeline import utils\r\n"
   ],
   "outputs": [],
   "metadata": {}
  },
  {
   "cell_type": "code",
   "execution_count": 22,
   "source": [
    "credentials = utils.load_credentials(\"blob_storage\")"
   ],
   "outputs": [],
   "metadata": {}
  },
  {
   "cell_type": "code",
   "execution_count": 3,
   "source": [
    "blob_service_client = BlobServiceClient.from_connection_string(credentials['conn_string'])"
   ],
   "outputs": [],
   "metadata": {}
  },
  {
   "cell_type": "code",
   "execution_count": 6,
   "source": [
    "# name of the existing container\r\n",
    "container_name = \"reports-ingredion\"\r\n",
    "container_client = blob_service_client.get_container_client(container_name)"
   ],
   "outputs": [],
   "metadata": {}
  },
  {
   "cell_type": "code",
   "execution_count": 7,
   "source": [
    "blob_list = []\r\n",
    "blob_it = container_client.list_blobs()\r\n",
    "for blob in blob_it:\r\n",
    "    file_name = blob.name\r\n",
    "    blob_list.append(file_name)"
   ],
   "outputs": [],
   "metadata": {}
  },
  {
   "cell_type": "code",
   "execution_count": 8,
   "source": [
    "len(blob_list)"
   ],
   "outputs": [
    {
     "output_type": "execute_result",
     "data": {
      "text/plain": [
       "120"
      ]
     },
     "metadata": {},
     "execution_count": 8
    }
   ],
   "metadata": {}
  },
  {
   "cell_type": "code",
   "execution_count": null,
   "source": [],
   "outputs": [],
   "metadata": {}
  }
 ],
 "metadata": {
  "orig_nbformat": 4,
  "language_info": {
   "name": "python",
   "version": "3.9.6",
   "mimetype": "text/x-python",
   "codemirror_mode": {
    "name": "ipython",
    "version": 3
   },
   "pygments_lexer": "ipython3",
   "nbconvert_exporter": "python",
   "file_extension": ".py"
  },
  "kernelspec": {
   "name": "python3",
   "display_name": "Python 3.9.6 64-bit ('azure_env': conda)"
  },
  "interpreter": {
   "hash": "15fd77f39075a101c0ddb7fa73065956cd918a6c64abad10f23882cfd32495f7"
  }
 },
 "nbformat": 4,
 "nbformat_minor": 2
}
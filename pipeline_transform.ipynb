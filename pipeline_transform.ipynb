{
 "cells": [
  {
   "cell_type": "code",
   "execution_count": 2,
   "source": [
    "import io, os, uuid, yaml\r\n",
    "import numpy as np\r\n",
    "import pandas as pd\r\n",
    "from azure.storage.blob import BlobServiceClient, BlobClient, ContainerClient\r\n",
    "from src.pipeline import utils, azure_tools\r\n"
   ],
   "outputs": [],
   "metadata": {}
  },
  {
   "cell_type": "code",
   "execution_count": 6,
   "source": [
    "credentials = utils.load_credentials(\"blob_storage\")"
   ],
   "outputs": [],
   "metadata": {}
  },
  {
   "cell_type": "code",
   "execution_count": 3,
   "source": [
    "container_input = \"reports-ingredion\"\r\n",
    "container_client = azure_tools.get_container_client(container_input,credentials['conn_string'])"
   ],
   "outputs": [],
   "metadata": {}
  },
  {
   "cell_type": "code",
   "execution_count": 4,
   "source": [
    "# name of the existing container\r\n",
    "blob_list = azure_tools.get_blob_list(container_client)"
   ],
   "outputs": [],
   "metadata": {}
  },
  {
   "cell_type": "code",
   "execution_count": 4,
   "source": [
    "container_output = \"intermidiate-ingredion\""
   ],
   "outputs": [],
   "metadata": {}
  },
  {
   "cell_type": "code",
   "execution_count": 6,
   "source": [
    "df = azure_tools.transform_pl_files(blob_list[:6], container_input, container_output, credentials['conn_string'])"
   ],
   "outputs": [
    {
     "output_type": "stream",
     "name": "stdout",
     "text": [
      "Processing:  1-2016 US P&L by Ship To & Material(ZBW_ZANDTM001_Q00NI)\n",
      "Uploading:  1-2016 US P&L by Ship To & Material(ZBW_ZANDTM001_Q00NI)\n",
      "Uploded file:  US/1-2016.parquet\n",
      "Processing:  1-2017 US P&L by Ship To & Material(ZBW_ZANDTM001_Q00NI)\n",
      "Uploading:  1-2017 US P&L by Ship To & Material(ZBW_ZANDTM001_Q00NI)\n",
      "Uploded file:  US/1-2017.parquet\n",
      "Processing:  1-2018 US P&L by Ship To & Material(ZBW_ZANDTM001_Q00NI)\n",
      "Uploading:  1-2018 US P&L by Ship To & Material(ZBW_ZANDTM001_Q00NI)\n",
      "Uploded file:  US/1-2018.parquet\n"
     ]
    }
   ],
   "metadata": {}
  },
  {
   "cell_type": "markdown",
   "source": [
    "## Read data"
   ],
   "metadata": {}
  },
  {
   "cell_type": "code",
   "execution_count": 14,
   "source": [
    "container_client = azure_tools.get_container_client(container_output,credentials['conn_string'])\r\n",
    "blob_list = azure_tools.get_blob_list(container_client)"
   ],
   "outputs": [],
   "metadata": {}
  },
  {
   "cell_type": "code",
   "execution_count": 15,
   "source": [
    "len(blob_list)"
   ],
   "outputs": [
    {
     "output_type": "execute_result",
     "data": {
      "text/plain": [
       "120"
      ]
     },
     "metadata": {},
     "execution_count": 15
    }
   ],
   "metadata": {}
  },
  {
   "cell_type": "code",
   "execution_count": null,
   "source": [
    "# for file in blob_list:\r\n",
    "#     container_client.delete_blob(file)"
   ],
   "outputs": [],
   "metadata": {}
  },
  {
   "cell_type": "code",
   "execution_count": 23,
   "source": [
    "df_test = azure_tools.read_transform_pl(container_output,credentials['conn_string'])"
   ],
   "outputs": [],
   "metadata": {}
  },
  {
   "cell_type": "code",
   "execution_count": 24,
   "source": [
    "df_test.shape"
   ],
   "outputs": [
    {
     "output_type": "execute_result",
     "data": {
      "text/plain": [
       "(375011, 48)"
      ]
     },
     "metadata": {},
     "execution_count": 24
    }
   ],
   "metadata": {}
  },
  {
   "cell_type": "code",
   "execution_count": 25,
   "source": [
    "df_test.info()"
   ],
   "outputs": [
    {
     "output_type": "stream",
     "name": "stdout",
     "text": [
      "<class 'pandas.core.frame.DataFrame'>\n",
      "Int64Index: 375011 entries, 0 to 7328\n",
      "Data columns (total 48 columns):\n",
      " #   Column                             Non-Null Count   Dtype  \n",
      "---  ------                             --------------   -----  \n",
      " 0   Fiscal year/period                 375011 non-null  float64\n",
      " 1   Company Code                       375011 non-null  object \n",
      " 2   Unnamed: 8                         375011 non-null  float64\n",
      " 3   Ship to party                      375011 non-null  object \n",
      " 4   Unnamed: 10                        375011 non-null  object \n",
      " 5   Material                           370077 non-null  object \n",
      " 6   Commercial Name                    375011 non-null  object \n",
      " 7   Sales Qty Total MT                 373705 non-null  float64\n",
      " 8   3P Sales Qty Total MT              322723 non-null  float64\n",
      " 9   Gross Revenue USD                  375011 non-null  float64\n",
      " 10  Discounts USD                      375011 non-null  float64\n",
      " 11  New Net Revenue                    375011 non-null  float64\n",
      " 12  N3P Net Revenue                    323945 non-null  float64\n",
      " 13  Net Corn                           375011 non-null  float64\n",
      " 14  Raw Material Other                 375011 non-null  float64\n",
      " 15  Utilities                          375011 non-null  float64\n",
      " 16  Waste                              375011 non-null  float64\n",
      " 17  Repair                             375011 non-null  float64\n",
      " 18  Labor                              375011 non-null  float64\n",
      " 19  OHMfg                              375011 non-null  float64\n",
      " 20  Supplies & Packaging               375011 non-null  float64\n",
      " 21  Supplies - Indirect                375011 non-null  float64\n",
      " 22  Depreciation                       375011 non-null  float64\n",
      " 23  3P Freight USD                     323945 non-null  float64\n",
      " 24  Logistics                          375011 non-null  float64\n",
      " 25  COS Other                          375011 non-null  float64\n",
      " 26  New COGS                           375011 non-null  float64\n",
      " 27  Freight USD                        375011 non-null  float64\n",
      " 28  Intercompany Cost Elimination      375011 non-null  float64\n",
      " 29  Gross Profit                       375011 non-null  float64\n",
      " 30  SGA Total                          375011 non-null  float64\n",
      " 31  Other (Income)/Expense             375011 non-null  float64\n",
      " 32  Operating Income                   375011 non-null  float64\n",
      " 33  Other Non-Operating (Income)/Loss  398 non-null     float64\n",
      " 34  Special Items                      398 non-null     float64\n",
      " 35  Interco Dividends                  398 non-null     float64\n",
      " 36  Charge Back                        398 non-null     float64\n",
      " 37  Exchange Gain / Loss               398 non-null     float64\n",
      " 38  Intercompany Financing Cost        398 non-null     float64\n",
      " 39  Financing Costs                    398 non-null     float64\n",
      " 40  Fees and Royalties                 398 non-null     float64\n",
      " 41  PBT                                375011 non-null  float64\n",
      " 42  Taxes on Income                    398 non-null     float64\n",
      " 43  Net Income                         375011 non-null  float64\n",
      " 44  Minority Income                    398 non-null     float64\n",
      " 45  Adj Minority Income                398 non-null     float64\n",
      " 46  Total Net Income                   375011 non-null  float64\n",
      " 47  ING10000 INGR Net Income           375011 non-null  float64\n",
      "dtypes: float64(43), object(5)\n",
      "memory usage: 140.2+ MB\n"
     ]
    }
   ],
   "metadata": {}
  },
  {
   "cell_type": "code",
   "execution_count": null,
   "source": [],
   "outputs": [],
   "metadata": {}
  }
 ],
 "metadata": {
  "orig_nbformat": 4,
  "language_info": {
   "name": "python",
   "version": "3.9.6",
   "mimetype": "text/x-python",
   "codemirror_mode": {
    "name": "ipython",
    "version": 3
   },
   "pygments_lexer": "ipython3",
   "nbconvert_exporter": "python",
   "file_extension": ".py"
  },
  "kernelspec": {
   "name": "python3",
   "display_name": "Python 3.9.6 64-bit ('azure_env': conda)"
  },
  "interpreter": {
   "hash": "15fd77f39075a101c0ddb7fa73065956cd918a6c64abad10f23882cfd32495f7"
  }
 },
 "nbformat": 4,
 "nbformat_minor": 2
}
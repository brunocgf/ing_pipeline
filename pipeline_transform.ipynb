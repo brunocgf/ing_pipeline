{
 "cells": [
  {
   "cell_type": "code",
   "execution_count": 1,
   "source": [
    "import io, os, uuid, yaml\r\n",
    "import numpy as np\r\n",
    "import pandas as pd\r\n",
    "from azure.storage.blob import BlobServiceClient, BlobClient, ContainerClient\r\n",
    "from src.pipeline import utils, azure_tools\r\n"
   ],
   "outputs": [],
   "metadata": {}
  },
  {
   "cell_type": "code",
   "execution_count": 2,
   "source": [
    "credentials = utils.load_credentials(\"blob_storage\")"
   ],
   "outputs": [],
   "metadata": {}
  },
  {
   "cell_type": "code",
   "execution_count": 3,
   "source": [
    "container_name = \"reports-ingredion\"\r\n",
    "container_client = azure_tools.get_container_client(container_name,credentials['conn_string'])"
   ],
   "outputs": [],
   "metadata": {}
  },
  {
   "cell_type": "code",
   "execution_count": 4,
   "source": [
    "# name of the existing container\r\n",
    "blob_list = azure_tools.get_blob_list(container_client)"
   ],
   "outputs": [],
   "metadata": {}
  },
  {
   "cell_type": "code",
   "execution_count": 5,
   "source": [
    "df = azure_tools.transform_pl_files(blob_list[:12], container_client)"
   ],
   "outputs": [
    {
     "output_type": "stream",
     "name": "stdout",
     "text": [
      "Processing:  1-2016 US P&L by Ship To & Material(ZBW_ZANDTM001_Q00NI)\n",
      "Processing:  1-2017 US P&L by Ship To & Material(ZBW_ZANDTM001_Q00NI)\n",
      "Processing:  1-2018 US P&L by Ship To & Material(ZBW_ZANDTM001_Q00NI)\n",
      "Processing:  1-2019 US P&L by Ship To & Material(ZBW_ZANDTM001_Q00NI)\n",
      "Processing:  1-2020 US P&L by Ship To & Material(ZBW_ZANDTM001_Q00NI)\n",
      "Processing:  10-2016 US P&L by Ship To & Material(ZBW_ZANDTM001_Q00NI)\n"
     ]
    }
   ],
   "metadata": {}
  },
  {
   "cell_type": "code",
   "execution_count": 6,
   "source": [
    "df['Fiscal year/period'].value_counts()"
   ],
   "outputs": [
    {
     "output_type": "execute_result",
     "data": {
      "text/plain": [
       "1.2019     6494\n",
       "10.2016    6338\n",
       "1.2016     6312\n",
       "1.2020     6196\n",
       "1.2017     6115\n",
       "1.2018     5961\n",
       "Name: Fiscal year/period, dtype: int64"
      ]
     },
     "metadata": {},
     "execution_count": 6
    }
   ],
   "metadata": {}
  },
  {
   "cell_type": "code",
   "execution_count": null,
   "source": [],
   "outputs": [],
   "metadata": {}
  }
 ],
 "metadata": {
  "orig_nbformat": 4,
  "language_info": {
   "name": "python",
   "version": "3.9.6",
   "mimetype": "text/x-python",
   "codemirror_mode": {
    "name": "ipython",
    "version": 3
   },
   "pygments_lexer": "ipython3",
   "nbconvert_exporter": "python",
   "file_extension": ".py"
  },
  "kernelspec": {
   "name": "python3",
   "display_name": "Python 3.9.6 64-bit ('azure_env': conda)"
  },
  "interpreter": {
   "hash": "15fd77f39075a101c0ddb7fa73065956cd918a6c64abad10f23882cfd32495f7"
  }
 },
 "nbformat": 4,
 "nbformat_minor": 2
}